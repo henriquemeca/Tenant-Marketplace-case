{
 "cells": [
  {
   "cell_type": "markdown",
   "metadata": {},
   "source": [
    "<style>\n",
    "    .main{\n",
    "        font-style: italic;\n",
    "        border-radius:10px;\n",
    "        text-align:center;   \n",
    "        transition: 0.5s;\n",
    "        background-color:darkslategrey;\n",
    "        color:white\n",
    "    }\n",
    "    .main:hover{\n",
    "        background-color:white;\n",
    "        color:darkslategrey;\n",
    "        transform:scale(0.95);\n",
    "    }\n",
    "</style>\n",
    "<div class=\"main\">\n",
    "    <h1 >How to increase number of contracts?</h1>\n",
    "    <h3>Quinto Andar case ceport</h3>\n",
    "</div>"
   ]
  },
  {
   "cell_type": "markdown",
   "metadata": {},
   "source": [
    "<h2>Data Exploration</h2>"
   ]
  },
  {
   "cell_type": "code",
   "execution_count": null,
   "metadata": {},
   "outputs": [],
   "source": [
    "#Load json data files\n",
    "import dataTools as dt\n",
    "import imp\n",
    "imp.reload(dt)\n",
    "import pandas as pd\n",
    "\n",
    "dataBases = dt.getJsons( '../data')\n",
    "for d in dt.getJsons( '../data'):\n",
    "    dataBases[d] = pd.json_normalize(dataBases[d][d])"
   ]
  },
  {
   "cell_type": "code",
   "execution_count": null,
   "metadata": {},
   "outputs": [],
   "source": []
  }
 ],
 "metadata": {
  "interpreter": {
   "hash": "c31ee28a2e8a8c14288e32f43cdc31d04eb5922835efbdee25a698b666fb5ffc"
  },
  "kernelspec": {
   "display_name": "Python 3.10.4 64-bit",
   "language": "python",
   "name": "python3"
  },
  "language_info": {
   "name": "python",
   "version": "3.10.4"
  },
  "orig_nbformat": 4
 },
 "nbformat": 4,
 "nbformat_minor": 2
}
